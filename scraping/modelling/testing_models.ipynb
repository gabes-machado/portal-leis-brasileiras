{
 "cells": [
  {
   "cell_type": "markdown",
   "metadata": {},
   "source": [
    "# Projeto de Scraping da Constituição Federal de 1988\n",
    "\n",
    "Este projeto tem como objetivo realizar o scraping da Constituição Federal de 1988. Este arquivo Jupyter Notebook é destinado a testes e demonstrações do processo de extração de dados.\n",
    "\n",
    "A estrutura atual da Constituição segue o modelo abaixo:\n",
    "\n",
    "- **Livro**\n",
    "    - **Título**\n",
    "        - **Artigo**\n",
    "            - **Inciso**\n",
    "                - **Alínea**\n",
    "            - **Parágrafo**\n",
    "                - **Inciso**\n",
    "                    - **Alínea**\n",
    "    - **Capítulo**\n",
    "        - **Artigo**\n",
    "            - **Inciso**\n",
    "                - **Alínea**\n",
    "            - **Parágrafo**\n",
    "                - **Inciso**\n",
    "                    - **Alínea**\n",
    "        - **Seção**\n",
    "            - **Artigo**\n",
    "                - **Inciso**\n",
    "                    - **Alínea**\n",
    "                - **Parágrafo**\n",
    "                    - **Inciso**\n",
    "                        - **Alínea**\n",
    "            - **Subseção**\n",
    "                - **Artigo**\n",
    "                    - **Inciso**\n",
    "                        - **Alínea**\n",
    "                    - **Parágrafo**\n",
    "                        - **Inciso**\n",
    "                            - **Alínea**"
   ]
  },
  {
   "cell_type": "code",
   "execution_count": null,
   "metadata": {},
   "outputs": [],
   "source": []
  }
 ],
 "metadata": {
  "kernelspec": {
   "display_name": "Python 3",
   "language": "python",
   "name": "python3"
  },
  "language_info": {
   "name": "python",
   "version": "3.12.1"
  }
 },
 "nbformat": 4,
 "nbformat_minor": 2
}
